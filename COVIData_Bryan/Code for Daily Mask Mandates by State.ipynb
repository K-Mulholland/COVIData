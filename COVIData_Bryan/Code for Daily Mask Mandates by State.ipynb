{
 "cells": [
  {
   "cell_type": "code",
   "execution_count": 1,
   "id": "8d200658",
   "metadata": {},
   "outputs": [
    {
     "data": {
      "text/html": [
       "<div>\n",
       "<style scoped>\n",
       "    .dataframe tbody tr th:only-of-type {\n",
       "        vertical-align: middle;\n",
       "    }\n",
       "\n",
       "    .dataframe tbody tr th {\n",
       "        vertical-align: top;\n",
       "    }\n",
       "\n",
       "    .dataframe thead th {\n",
       "        text-align: right;\n",
       "    }\n",
       "</style>\n",
       "<table border=\"1\" class=\"dataframe\">\n",
       "  <thead>\n",
       "    <tr style=\"text-align: right;\">\n",
       "      <th></th>\n",
       "      <th>State_Tribe_Territory</th>\n",
       "      <th>County_Name</th>\n",
       "      <th>FIPS_State</th>\n",
       "      <th>FIPS_County</th>\n",
       "      <th>date</th>\n",
       "      <th>order_code</th>\n",
       "      <th>Face_Masks_Required_in_Public</th>\n",
       "      <th>Source_of_Action</th>\n",
       "      <th>URL</th>\n",
       "      <th>Citation</th>\n",
       "    </tr>\n",
       "  </thead>\n",
       "  <tbody>\n",
       "    <tr>\n",
       "      <th>0</th>\n",
       "      <td>AL</td>\n",
       "      <td>Autauga County</td>\n",
       "      <td>1</td>\n",
       "      <td>1</td>\n",
       "      <td>4/10/2020</td>\n",
       "      <td>2</td>\n",
       "      <td>NaN</td>\n",
       "      <td>NaN</td>\n",
       "      <td>NaN</td>\n",
       "      <td>NaN</td>\n",
       "    </tr>\n",
       "    <tr>\n",
       "      <th>1</th>\n",
       "      <td>AL</td>\n",
       "      <td>Autauga County</td>\n",
       "      <td>1</td>\n",
       "      <td>1</td>\n",
       "      <td>4/11/2020</td>\n",
       "      <td>2</td>\n",
       "      <td>NaN</td>\n",
       "      <td>NaN</td>\n",
       "      <td>NaN</td>\n",
       "      <td>NaN</td>\n",
       "    </tr>\n",
       "    <tr>\n",
       "      <th>2</th>\n",
       "      <td>AL</td>\n",
       "      <td>Autauga County</td>\n",
       "      <td>1</td>\n",
       "      <td>1</td>\n",
       "      <td>4/12/2020</td>\n",
       "      <td>2</td>\n",
       "      <td>NaN</td>\n",
       "      <td>NaN</td>\n",
       "      <td>NaN</td>\n",
       "      <td>NaN</td>\n",
       "    </tr>\n",
       "    <tr>\n",
       "      <th>3</th>\n",
       "      <td>AL</td>\n",
       "      <td>Autauga County</td>\n",
       "      <td>1</td>\n",
       "      <td>1</td>\n",
       "      <td>4/13/2020</td>\n",
       "      <td>2</td>\n",
       "      <td>NaN</td>\n",
       "      <td>NaN</td>\n",
       "      <td>NaN</td>\n",
       "      <td>NaN</td>\n",
       "    </tr>\n",
       "    <tr>\n",
       "      <th>4</th>\n",
       "      <td>AL</td>\n",
       "      <td>Autauga County</td>\n",
       "      <td>1</td>\n",
       "      <td>1</td>\n",
       "      <td>4/14/2020</td>\n",
       "      <td>2</td>\n",
       "      <td>NaN</td>\n",
       "      <td>NaN</td>\n",
       "      <td>NaN</td>\n",
       "      <td>NaN</td>\n",
       "    </tr>\n",
       "  </tbody>\n",
       "</table>\n",
       "</div>"
      ],
      "text/plain": [
       "  State_Tribe_Territory     County_Name  FIPS_State  FIPS_County       date  \\\n",
       "0                    AL  Autauga County           1            1  4/10/2020   \n",
       "1                    AL  Autauga County           1            1  4/11/2020   \n",
       "2                    AL  Autauga County           1            1  4/12/2020   \n",
       "3                    AL  Autauga County           1            1  4/13/2020   \n",
       "4                    AL  Autauga County           1            1  4/14/2020   \n",
       "\n",
       "   order_code Face_Masks_Required_in_Public Source_of_Action  URL Citation  \n",
       "0           2                           NaN              NaN  NaN      NaN  \n",
       "1           2                           NaN              NaN  NaN      NaN  \n",
       "2           2                           NaN              NaN  NaN      NaN  \n",
       "3           2                           NaN              NaN  NaN      NaN  \n",
       "4           2                           NaN              NaN  NaN      NaN  "
      ]
     },
     "execution_count": 1,
     "metadata": {},
     "output_type": "execute_result"
    }
   ],
   "source": [
    "#Set-up\n",
    "#Dependencies\n",
    "import pandas as pd\n",
    "import warnings\n",
    "warnings.filterwarnings('ignore')\n",
    "import matplotlib.pyplot as plt\n",
    "import numpy as np\n",
    "\n",
    "#File path to csv and displaying it\n",
    "Daily_Mask = \"Resources/Daily_Mask_State.csv\"\n",
    "Daily_Mask_df = pd.read_csv(Daily_Mask)\n",
    "Daily_Mask_df.head()"
   ]
  },
  {
   "cell_type": "code",
   "execution_count": 2,
   "id": "e41c6c9f",
   "metadata": {},
   "outputs": [
    {
     "name": "stdout",
     "output_type": "stream",
     "text": [
      "['AL' 'AK' 'AZ' 'AR' 'CA' 'CO' 'DE' 'CT' 'FL' 'DC' 'GA' 'HI' 'ID' 'IL'\n",
      " 'IN' 'IA' 'KS' 'KY' 'LA' 'ME' 'MA' 'MD' 'MI' 'MN' 'MS' 'MO' 'MT' 'NE'\n",
      " 'NV' 'NH' 'NJ' 'NM' 'NY' 'NC' 'ND' 'OH' 'OK' 'OR' 'PA' 'RI' 'SC' 'SD'\n",
      " 'TN' 'TX' 'UT' 'VT' 'VA' 'WA' 'WV' 'WI' 'WY' 'AS' 'GU' 'MP' 'PR' 'VI']\n"
     ]
    }
   ],
   "source": [
    "#Seeing all the unique states in the dataframe\n",
    "print(Daily_Mask_df[\"State_Tribe_Territory\"].unique())"
   ]
  },
  {
   "cell_type": "code",
   "execution_count": 3,
   "id": "bc9ef21d",
   "metadata": {
    "scrolled": true
   },
   "outputs": [
    {
     "data": {
      "text/plain": [
       "State_Tribe_Territory            1548513\n",
       "County_Name                      1548513\n",
       "FIPS_State                       1548513\n",
       "FIPS_County                      1548513\n",
       "date                             1548513\n",
       "order_code                       1548513\n",
       "Face_Masks_Required_in_Public     946475\n",
       "Source_of_Action                  946475\n",
       "URL                               901788\n",
       "Citation                          936193\n",
       "dtype: int64"
      ]
     },
     "execution_count": 3,
     "metadata": {},
     "output_type": "execute_result"
    }
   ],
   "source": [
    "#Deleting all territories and DC in dataset since we want only states\n",
    "Daily_Mask_df.drop(Daily_Mask_df.index[(Daily_Mask_df[\"State_Tribe_Territory\"] == \"AS\")],axis=0,inplace=True)\n",
    "Daily_Mask_df.drop(Daily_Mask_df.index[(Daily_Mask_df[\"State_Tribe_Territory\"] == \"GU\")],axis=0,inplace=True)\n",
    "Daily_Mask_df.drop(Daily_Mask_df.index[(Daily_Mask_df[\"State_Tribe_Territory\"] == \"MH\")],axis=0,inplace=True)\n",
    "Daily_Mask_df.drop(Daily_Mask_df.index[(Daily_Mask_df[\"State_Tribe_Territory\"] == \"MP\")],axis=0,inplace=True)\n",
    "Daily_Mask_df.drop(Daily_Mask_df.index[(Daily_Mask_df[\"State_Tribe_Territory\"] == \"PR\")],axis=0,inplace=True)\n",
    "Daily_Mask_df.drop(Daily_Mask_df.index[(Daily_Mask_df[\"State_Tribe_Territory\"] == \"PW\")],axis=0,inplace=True)\n",
    "Daily_Mask_df.drop(Daily_Mask_df.index[(Daily_Mask_df[\"State_Tribe_Territory\"] == \"VI\")],axis=0,inplace=True)\n",
    "Daily_Mask_df.drop(Daily_Mask_df.index[(Daily_Mask_df[\"State_Tribe_Territory\"] == \"UM\")],axis=0,inplace=True)\n",
    "Daily_Mask_df.drop(Daily_Mask_df.index[(Daily_Mask_df[\"State_Tribe_Territory\"] == \"DC\")],axis=0,inplace=True)\n",
    "Daily_Mask_df.count()"
   ]
  },
  {
   "cell_type": "code",
   "execution_count": 4,
   "id": "e5c57865",
   "metadata": {},
   "outputs": [
    {
     "data": {
      "text/html": [
       "<div>\n",
       "<style scoped>\n",
       "    .dataframe tbody tr th:only-of-type {\n",
       "        vertical-align: middle;\n",
       "    }\n",
       "\n",
       "    .dataframe tbody tr th {\n",
       "        vertical-align: top;\n",
       "    }\n",
       "\n",
       "    .dataframe thead th {\n",
       "        text-align: right;\n",
       "    }\n",
       "</style>\n",
       "<table border=\"1\" class=\"dataframe\">\n",
       "  <thead>\n",
       "    <tr style=\"text-align: right;\">\n",
       "      <th></th>\n",
       "      <th>State_Tribe_Territory</th>\n",
       "      <th>County_Name</th>\n",
       "      <th>date</th>\n",
       "      <th>Face_Masks_Required_in_Public</th>\n",
       "    </tr>\n",
       "  </thead>\n",
       "  <tbody>\n",
       "    <tr>\n",
       "      <th>0</th>\n",
       "      <td>AL</td>\n",
       "      <td>Autauga County</td>\n",
       "      <td>4/10/2020</td>\n",
       "      <td>NaN</td>\n",
       "    </tr>\n",
       "    <tr>\n",
       "      <th>1</th>\n",
       "      <td>AL</td>\n",
       "      <td>Autauga County</td>\n",
       "      <td>4/11/2020</td>\n",
       "      <td>NaN</td>\n",
       "    </tr>\n",
       "    <tr>\n",
       "      <th>2</th>\n",
       "      <td>AL</td>\n",
       "      <td>Autauga County</td>\n",
       "      <td>4/12/2020</td>\n",
       "      <td>NaN</td>\n",
       "    </tr>\n",
       "    <tr>\n",
       "      <th>3</th>\n",
       "      <td>AL</td>\n",
       "      <td>Autauga County</td>\n",
       "      <td>4/13/2020</td>\n",
       "      <td>NaN</td>\n",
       "    </tr>\n",
       "    <tr>\n",
       "      <th>4</th>\n",
       "      <td>AL</td>\n",
       "      <td>Autauga County</td>\n",
       "      <td>4/14/2020</td>\n",
       "      <td>NaN</td>\n",
       "    </tr>\n",
       "  </tbody>\n",
       "</table>\n",
       "</div>"
      ],
      "text/plain": [
       "  State_Tribe_Territory     County_Name       date  \\\n",
       "0                    AL  Autauga County  4/10/2020   \n",
       "1                    AL  Autauga County  4/11/2020   \n",
       "2                    AL  Autauga County  4/12/2020   \n",
       "3                    AL  Autauga County  4/13/2020   \n",
       "4                    AL  Autauga County  4/14/2020   \n",
       "\n",
       "  Face_Masks_Required_in_Public  \n",
       "0                           NaN  \n",
       "1                           NaN  \n",
       "2                           NaN  \n",
       "3                           NaN  \n",
       "4                           NaN  "
      ]
     },
     "execution_count": 4,
     "metadata": {},
     "output_type": "execute_result"
    }
   ],
   "source": [
    "#Keeping the necessary columns\n",
    "Mask_df = Daily_Mask_df[[\"State_Tribe_Territory\",\"County_Name\",\"date\",\"Face_Masks_Required_in_Public\"]]\n",
    "Mask_df.head()"
   ]
  },
  {
   "cell_type": "code",
   "execution_count": 5,
   "id": "c4e86c52",
   "metadata": {
    "scrolled": true
   },
   "outputs": [
    {
     "name": "stdout",
     "output_type": "stream",
     "text": [
      "                                                  date  \\\n",
      "State_Tribe_Territory County_Name                        \n",
      "AK                    Aleutians East Borough       493   \n",
      "                      Aleutians West Census Area   493   \n",
      "                      Anchorage Municipality       493   \n",
      "                      Bethel Census Area           493   \n",
      "                      Bristol Bay Borough          493   \n",
      "...                                                ...   \n",
      "WY                    Sweetwater County            493   \n",
      "                      Teton County                 493   \n",
      "                      Uinta County                 493   \n",
      "                      Washakie County              493   \n",
      "                      Weston County                493   \n",
      "\n",
      "                                                  Face_Masks_Required_in_Public  \n",
      "State_Tribe_Territory County_Name                                                \n",
      "AK                    Aleutians East Borough                                  0  \n",
      "                      Aleutians West Census Area                              0  \n",
      "                      Anchorage Municipality                                  0  \n",
      "                      Bethel Census Area                                      0  \n",
      "                      Bristol Bay Borough                                     0  \n",
      "...                                                                         ...  \n",
      "WY                    Sweetwater County                                     219  \n",
      "                      Teton County                                          219  \n",
      "                      Uinta County                                          219  \n",
      "                      Washakie County                                       219  \n",
      "                      Weston County                                         219  \n",
      "\n",
      "[3141 rows x 2 columns]\n"
     ]
    }
   ],
   "source": [
    "#Shows how many days there are in the date column (493 days for each county)\n",
    "#This will be important later on.\n",
    "Mask_Groupby = Mask_df.groupby([\"State_Tribe_Territory\",\"County_Name\"]).count()\n",
    "print(Mask_Groupby)"
   ]
  },
  {
   "cell_type": "code",
   "execution_count": 6,
   "id": "413b323f",
   "metadata": {
    "scrolled": true
   },
   "outputs": [
    {
     "name": "stdout",
     "output_type": "stream",
     "text": [
      "        State_Tribe_Territory     County_Name       date  \\\n",
      "0                          AL  Autauga County  4/10/2020   \n",
      "1                          AL  Autauga County  4/11/2020   \n",
      "2                          AL  Autauga County  4/12/2020   \n",
      "3                          AL  Autauga County  4/13/2020   \n",
      "4                          AL  Autauga County  4/14/2020   \n",
      "...                       ...             ...        ...   \n",
      "1573408                    WY   Weston County  8/11/2021   \n",
      "1573409                    WY   Weston County  8/12/2021   \n",
      "1573410                    WY   Weston County  8/13/2021   \n",
      "1573411                    WY   Weston County  8/14/2021   \n",
      "1573412                    WY   Weston County  8/15/2021   \n",
      "\n",
      "         Face_Masks_Required_in_Public  \n",
      "0                                    0  \n",
      "1                                    0  \n",
      "2                                    0  \n",
      "3                                    0  \n",
      "4                                    0  \n",
      "...                                ...  \n",
      "1573408                              0  \n",
      "1573409                              0  \n",
      "1573410                              0  \n",
      "1573411                              0  \n",
      "1573412                              0  \n",
      "\n",
      "[1548513 rows x 4 columns]\n"
     ]
    }
   ],
   "source": [
    "#replacing the results in the Face_Masks column to be integers for summation (no is 0, yes is 1)\n",
    "Mask_df[\"Face_Masks_Required_in_Public\"] = Mask_df[\"Face_Masks_Required_in_Public\"].str.replace(\"Yes\",\"1\")\n",
    "Mask_df[\"Face_Masks_Required_in_Public\"] = Mask_df[\"Face_Masks_Required_in_Public\"].str.replace(\"No\",\"0\")\n",
    "Mask_df[\"Face_Masks_Required_in_Public\"] = Mask_df[\"Face_Masks_Required_in_Public\"].fillna(0)\n",
    "Mask_df[\"Face_Masks_Required_in_Public\"] = Mask_df[\"Face_Masks_Required_in_Public\"].astype(int)\n",
    "print(Mask_df)\n"
   ]
  },
  {
   "cell_type": "code",
   "execution_count": 7,
   "id": "6440c534",
   "metadata": {},
   "outputs": [
    {
     "name": "stdout",
     "output_type": "stream",
     "text": [
      "                       State\n",
      "State_Tribe_Territory       \n",
      "AK                         0\n",
      "AL                     17889\n",
      "AR                     19050\n",
      "AZ                         0\n",
      "CA                     24592\n",
      "CO                     16704\n",
      "CT                      3864\n",
      "DE                      1233\n",
      "FL                         0\n",
      "GA                         0\n",
      "HI                      2430\n",
      "IA                      8118\n",
      "ID                         0\n",
      "IL                     41412\n",
      "IN                     23276\n",
      "KS                     28455\n",
      "KY                     40320\n",
      "LA                     19264\n",
      "MA                      5432\n",
      "MD                      9408\n",
      "ME                      6208\n",
      "MI                     34777\n",
      "MN                     25578\n",
      "MO                         0\n",
      "MS                     12428\n",
      "MT                     11872\n",
      "NC                     32200\n",
      "ND                      3498\n",
      "NE                         0\n",
      "NH                      1480\n",
      "NJ                      8673\n",
      "NM                     15063\n",
      "NV                      7106\n",
      "NY                     26908\n",
      "OH                     27863\n",
      "OK                         0\n",
      "OR                     13212\n",
      "PA                     29145\n",
      "RI                      2120\n",
      "SC                         0\n",
      "SD                         0\n",
      "TN                         0\n",
      "TX                     63500\n",
      "UT                      5038\n",
      "VA                     46683\n",
      "VT                      4438\n",
      "WA                     16224\n",
      "WI                     17424\n",
      "WV                     19140\n",
      "WY                      1518\n"
     ]
    }
   ],
   "source": [
    "#Summation of required mask mandate in all counties in all states\n",
    "Mask_Sum_State = Mask_df.groupby([\"State_Tribe_Territory\"]).agg({\"Face_Masks_Required_in_Public\":[\"sum\"]})\n",
    "Mask_Sum_State.columns = [\"State\"]\n",
    "print(Mask_Sum_State)\n",
    "#Each state has different number of counties so need to divide the state by county to get the average Mask Mandate duration"
   ]
  },
  {
   "cell_type": "code",
   "execution_count": 8,
   "id": "060e449d",
   "metadata": {},
   "outputs": [
    {
     "name": "stdout",
     "output_type": "stream",
     "text": [
      "                       Total_County  Number_of_Counties\n",
      "State_Tribe_Territory                                  \n",
      "AK                            14297                29.0\n",
      "AL                            33031                67.0\n",
      "AR                            36975                75.0\n",
      "AZ                             7395                15.0\n",
      "CA                            28594                58.0\n",
      "CO                            31552                64.0\n",
      "CT                             3944                 8.0\n",
      "DE                             1479                 3.0\n",
      "FL                            33031                67.0\n",
      "GA                            78387               159.0\n",
      "HI                             2465                 5.0\n",
      "IA                            48807                99.0\n",
      "ID                            21692                44.0\n",
      "IL                            50286               102.0\n",
      "IN                            45356                92.0\n",
      "KS                            51765               105.0\n",
      "KY                            59160               120.0\n",
      "LA                            31552                64.0\n",
      "MA                             6902                14.0\n",
      "MD                            11832                24.0\n",
      "ME                             7888                16.0\n",
      "MI                            40919                83.0\n",
      "MN                            42891                87.0\n",
      "MO                            56695               115.0\n",
      "MS                            40426                82.0\n",
      "MT                            27608                56.0\n",
      "NC                            49300               100.0\n",
      "ND                            26129                53.0\n",
      "NE                            45849                93.0\n",
      "NH                             4930                10.0\n",
      "NJ                            10353                21.0\n",
      "NM                            16269                33.0\n",
      "NV                             8381                17.0\n",
      "NY                            30566                62.0\n",
      "OH                            43384                88.0\n",
      "OK                            37961                77.0\n",
      "OR                            17748                36.0\n",
      "PA                            33031                67.0\n",
      "RI                             2465                 5.0\n",
      "SC                            22678                46.0\n",
      "SD                            32538                66.0\n",
      "TN                            46835                95.0\n",
      "TX                           125222               254.0\n",
      "UT                            14297                29.0\n",
      "VA                            65569               133.0\n",
      "VT                             6902                14.0\n",
      "WA                            19227                39.0\n",
      "WI                            35496                72.0\n",
      "WV                            27115                55.0\n",
      "WY                            11339                23.0\n"
     ]
    }
   ],
   "source": [
    "#Summation of all counties by state\n",
    "Mask_County = Mask_df.groupby([\"State_Tribe_Territory\"]).agg({\"County_Name\":[\"count\"]})\n",
    "Mask_County.columns = [\"Total_County\"]\n",
    "\n",
    "#Divde by 493 from the number of rows that we found before\n",
    "Mask_County[\"Number_of_Counties\"] = Mask_County[\"Total_County\"]/493\n",
    "print(Mask_County)"
   ]
  },
  {
   "cell_type": "code",
   "execution_count": 9,
   "id": "90fc1a5f",
   "metadata": {},
   "outputs": [
    {
     "name": "stdout",
     "output_type": "stream",
     "text": [
      "                       State  Total_Days\n",
      "State_Tribe_Territory                   \n",
      "AK                         0    0.000000\n",
      "AL                     17889  267.000000\n",
      "AR                     19050  254.000000\n",
      "AZ                         0    0.000000\n",
      "CA                     24592  424.000000\n",
      "CO                     16704  261.000000\n",
      "CT                      3864  483.000000\n",
      "DE                      1233  411.000000\n",
      "FL                         0    0.000000\n",
      "GA                         0    0.000000\n",
      "HI                      2430  486.000000\n",
      "IA                      8118   82.000000\n",
      "ID                         0    0.000000\n",
      "IL                     41412  406.000000\n",
      "IN                     23276  253.000000\n",
      "KS                     28455  271.000000\n",
      "KY                     40320  336.000000\n",
      "LA                     19264  301.000000\n",
      "MA                      5432  388.000000\n",
      "MD                      9408  392.000000\n",
      "ME                      6208  388.000000\n",
      "MI                     34777  419.000000\n",
      "MN                     25578  294.000000\n",
      "MO                         0    0.000000\n",
      "MS                     12428  151.560976\n",
      "MT                     11872  212.000000\n",
      "NC                     32200  322.000000\n",
      "ND                      3498   66.000000\n",
      "NE                         0    0.000000\n",
      "NH                      1480  148.000000\n",
      "NJ                      8673  413.000000\n",
      "NM                     15063  456.454545\n",
      "NV                      7106  418.000000\n",
      "NY                     26908  434.000000\n",
      "OH                     27863  316.625000\n",
      "OK                         0    0.000000\n",
      "OR                     13212  367.000000\n",
      "PA                     29145  435.000000\n",
      "RI                      2120  424.000000\n",
      "SC                         0    0.000000\n",
      "SD                         0    0.000000\n",
      "TN                         0    0.000000\n",
      "TX                     63500  250.000000\n",
      "UT                      5038  173.724138\n",
      "VA                     46683  351.000000\n",
      "VT                      4438  317.000000\n",
      "WA                     16224  416.000000\n",
      "WI                     17424  242.000000\n",
      "WV                     19140  348.000000\n",
      "WY                      1518   66.000000\n"
     ]
    }
   ],
   "source": [
    "#Now we do the division to get the average Mask Mandate duration for each state\n",
    "Mask_Sum_State[\"Total_Days\"] = Mask_Sum_State[\"State\"]/Mask_County[\"Number_of_Counties\"]\n",
    "print(Mask_Sum_State)"
   ]
  },
  {
   "cell_type": "code",
   "execution_count": 10,
   "id": "d29e5071",
   "metadata": {
    "scrolled": false
   },
   "outputs": [
    {
     "name": "stdout",
     "output_type": "stream",
     "text": [
      "                       State  Total_Days\n",
      "State_Tribe_Territory                   \n",
      "HI                      2430  486.000000\n",
      "CT                      3864  483.000000\n",
      "NM                     15063  456.454545\n",
      "PA                     29145  435.000000\n",
      "NY                     26908  434.000000\n",
      "CA                     24592  424.000000\n",
      "RI                      2120  424.000000\n",
      "MI                     34777  419.000000\n",
      "NV                      7106  418.000000\n",
      "WA                     16224  416.000000\n"
     ]
    }
   ],
   "source": [
    "Longest_Mask_States = Mask_Sum_State.nlargest(n=10,columns=[\"Total_Days\"])\n",
    "print(Longest_Mask_States)"
   ]
  },
  {
   "cell_type": "code",
   "execution_count": 11,
   "id": "68d9d8a4",
   "metadata": {},
   "outputs": [
    {
     "name": "stdout",
     "output_type": "stream",
     "text": [
      "                       State  Total_Days\n",
      "State_Tribe_Territory                   \n",
      "AK                         0         0.0\n",
      "AZ                         0         0.0\n",
      "FL                         0         0.0\n",
      "GA                         0         0.0\n",
      "ID                         0         0.0\n",
      "MO                         0         0.0\n",
      "NE                         0         0.0\n",
      "OK                         0         0.0\n",
      "SC                         0         0.0\n",
      "SD                         0         0.0\n",
      "TN                         0         0.0\n"
     ]
    }
   ],
   "source": [
    "Shortest_Mask_States = Mask_Sum_State.nsmallest(n=11,columns=[\"Total_Days\"])\n",
    "print(Shortest_Mask_States)"
   ]
  },
  {
   "cell_type": "code",
   "execution_count": 12,
   "id": "bb786c43",
   "metadata": {},
   "outputs": [
    {
     "name": "stdout",
     "output_type": "stream",
     "text": [
      "[486.0, 483.0, 456.45454545454544, 435.0, 434.0, 424.0, 424.0, 419.0, 418.0, 416.0, 0.0, 0.0, 0.0, 0.0, 0.0, 0.0, 0.0, 0.0, 0.0, 0.0, 0.0]\n"
     ]
    }
   ],
   "source": [
    "#Making a bar chart with the results\n",
    "#Making the y-axis of bar chart\n",
    "Mask_Mandate_Duration = [] \n",
    "Mask_Mandate_Duration_a = Longest_Mask_States[\"Total_Days\"].tolist()\n",
    "Mask_Mandate_Duration_b = Shortest_Mask_States[\"Total_Days\"].tolist()\n",
    "Mask_Mandate_Duration = Mask_Mandate_Duration_a + Mask_Mandate_Duration_b\n",
    "print(Mask_Mandate_Duration)"
   ]
  },
  {
   "cell_type": "code",
   "execution_count": 13,
   "id": "37b5fb5a",
   "metadata": {},
   "outputs": [
    {
     "name": "stdout",
     "output_type": "stream",
     "text": [
      "['HI', 'CT', 'NM', 'PA', 'NY', 'CA', 'RI', 'MI', 'NV', 'WA', 'AK', 'AZ', 'FL', 'GA', 'ID', 'MO', 'NE', 'OK', 'SC', 'SD', 'TN']\n"
     ]
    }
   ],
   "source": [
    "#Making the x-axis of bar chart\n",
    "Mask_Mandate_State = [] \n",
    "Mask_Mandate_State_a = Longest_Mask_States.index.tolist()\n",
    "Mask_Mandate_State_b = Shortest_Mask_States.index.tolist()\n",
    "Mask_Mandate_State = Mask_Mandate_State_a + Mask_Mandate_State_b\n",
    "print(Mask_Mandate_State)"
   ]
  },
  {
   "cell_type": "code",
   "execution_count": 14,
   "id": "127c717f",
   "metadata": {},
   "outputs": [
    {
     "data": {
      "image/png": "[encoded data removed]",
      "text/plain": [
       "<Figure size 864x360 with 1 Axes>"
      ]
     },
     "metadata": {
      "needs_background": "light"
     },
     "output_type": "display_data"
    }
   ],
   "source": [
    "#Setting the bar plot\n",
    "plt.subplots(figsize=(12,5))\n",
    "plt.bar(Mask_Mandate_State, Mask_Mandate_Duration, color='b', alpha=0.5, align=\"center\")\n",
    "plt.title(\"Longest and Shortest Mask Mandate Duration in 2020-2021 by State\")\n",
    "plt.xlabel(\"States\")\n",
    "plt.ylabel(\"Days\")\n",
    "plt.savefig(\"Images/Mask_Barchart.png\")"
   ]
  }
 ],
 "metadata": {
  "kernelspec": {
   "display_name": "PythonData",
   "language": "python",
   "name": "pythondata"
  },
  "language_info": {
   "codemirror_mode": {
    "name": "ipython",
    "version": 3
   },
   "file_extension": ".py",
   "mimetype": "text/x-python",
   "name": "python",
   "nbconvert_exporter": "python",
   "pygments_lexer": "ipython3",
   "version": "3.7.7"
  }
 },
 "nbformat": 4,
 "nbformat_minor": 5
}
