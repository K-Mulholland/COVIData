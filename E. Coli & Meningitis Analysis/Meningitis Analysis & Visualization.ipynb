{
 "cells": [
  {
   "cell_type": "markdown",
   "id": "d9507dcd",
   "metadata": {},
   "source": [
    "# Meningitis\n",
    "Infection Rates Over Time Compared In A Variety of Ways"
   ]
  },
  {
   "cell_type": "code",
   "execution_count": 7,
   "id": "634e9b86",
   "metadata": {},
   "outputs": [],
   "source": [
    "# importing dependencies\n",
    "# do we need additional dependencies? guessing no?\n",
    "import pandas as pd\n",
    "import matplotlib.pyplot as plt\n",
    "import scipy.stats as st\n",
    "import numpy as np\n",
    "\n",
    "# Meningitis data files\n",
    "# should we call in the E. Coli and/or covid data files also?  guessing no to keep things simple and organized?  \n",
    "meningitis_data_df = \"Meningitis_Data.csv\""
   ]
  },
  {
   "cell_type": "code",
   "execution_count": 8,
   "id": "a75cd382",
   "metadata": {},
   "outputs": [
    {
     "ename": "NameError",
     "evalue": "name 'meningitis_data' is not defined",
     "output_type": "error",
     "traceback": [
      "\u001b[0;31m---------------------------------------------------------------------------\u001b[0m",
      "\u001b[0;31mNameError\u001b[0m                                 Traceback (most recent call last)",
      "Input \u001b[0;32mIn [8]\u001b[0m, in \u001b[0;36m<cell line: 6>\u001b[0;34m()\u001b[0m\n\u001b[1;32m      3\u001b[0m meningitis_df \u001b[38;5;241m=\u001b[39m pd\u001b[38;5;241m.\u001b[39mread_csv(meningitis_data_path)\n\u001b[1;32m      5\u001b[0m \u001b[38;5;66;03m# Display the data table for preview\u001b[39;00m\n\u001b[0;32m----> 6\u001b[0m \u001b[43mmeningitis_data\u001b[49m\u001b[38;5;241m.\u001b[39mhead()\n",
      "\u001b[0;31mNameError\u001b[0m: name 'meningitis_data' is not defined"
     ]
    }
   ],
   "source": [
    "# Read the Meningitis data \n",
    "meningitis_data_path = \"Meningitis_Data.csv\"\n",
    "meningitis_df = pd.read_csv(meningitis_data_path)\n",
    "\n",
    "# Display the data table for preview\n",
    "meningitis_data.head()"
   ]
  },
  {
   "cell_type": "markdown",
   "id": "435e001f",
   "metadata": {},
   "source": [
    "US Infection Rates Over Time"
   ]
  },
  {
   "cell_type": "code",
   "execution_count": null,
   "id": "8482e792",
   "metadata": {},
   "outputs": [],
   "source": [
    "# locate 'total cases' in the 'viewby2' column and read 'counts' in 'value' column for years '2018-2020'\n",
    "# print into a dataframe\n",
    "# create visualization to display case counts by year (bar graph)"
   ]
  },
  {
   "cell_type": "markdown",
   "id": "a531c8e7",
   "metadata": {},
   "source": [
    "State Infection Rates\n",
    "Top 10 States (with longest masking mandates)\n",
    "New York\n",
    "Massachusetts\n",
    "New Jersey\n",
    "Delaware\n",
    "Connecticut\n",
    "Virginia\n",
    "Rhode Island\n",
    "Maine\n",
    "Michigan\n",
    "Illinois\n",
    "New Mexico"
   ]
  },
  {
   "cell_type": "code",
   "execution_count": null,
   "id": "19ea8108",
   "metadata": {},
   "outputs": [],
   "source": []
  },
  {
   "cell_type": "markdown",
   "id": "2d6246ff",
   "metadata": {},
   "source": [
    "State Infection Rates\n",
    "Bottom 10 States (with shortest masking mandates)\n",
    "Florida\n",
    "Georgia\n",
    "South Carolina\n",
    "Tennessee\n",
    "Montana\n",
    "Oklahoma\n",
    "South Dakota\n",
    "Wyoming\n",
    "Idaho\n",
    "Arizona"
   ]
  },
  {
   "cell_type": "code",
   "execution_count": null,
   "id": "d2295873",
   "metadata": {},
   "outputs": [],
   "source": []
  }
 ],
 "metadata": {
  "kernelspec": {
   "display_name": "PythonData",
   "language": "python",
   "name": "pythondata"
  },
  "language_info": {
   "codemirror_mode": {
    "name": "ipython",
    "version": 3
   },
   "file_extension": ".py",
   "mimetype": "text/x-python",
   "name": "python",
   "nbconvert_exporter": "python",
   "pygments_lexer": "ipython3",
   "version": "3.8.13"
  }
 },
 "nbformat": 4,
 "nbformat_minor": 5
}
