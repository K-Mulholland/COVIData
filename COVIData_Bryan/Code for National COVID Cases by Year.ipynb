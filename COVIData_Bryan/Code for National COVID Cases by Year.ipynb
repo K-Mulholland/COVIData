{
 "cells": [
  {
   "cell_type": "code",
   "execution_count": 1,
   "id": "aa93444e",
   "metadata": {},
   "outputs": [
    {
     "data": {
      "text/html": [
       "<div>\n",
       "<style scoped>\n",
       "    .dataframe tbody tr th:only-of-type {\n",
       "        vertical-align: middle;\n",
       "    }\n",
       "\n",
       "    .dataframe tbody tr th {\n",
       "        vertical-align: top;\n",
       "    }\n",
       "\n",
       "    .dataframe thead th {\n",
       "        text-align: right;\n",
       "    }\n",
       "</style>\n",
       "<table border=\"1\" class=\"dataframe\">\n",
       "  <thead>\n",
       "    <tr style=\"text-align: right;\">\n",
       "      <th></th>\n",
       "      <th>date_updated</th>\n",
       "      <th>state</th>\n",
       "      <th>start_date</th>\n",
       "      <th>end_date</th>\n",
       "      <th>tot_cases</th>\n",
       "      <th>new_cases</th>\n",
       "      <th>tot_deaths</th>\n",
       "      <th>new_deaths</th>\n",
       "    </tr>\n",
       "  </thead>\n",
       "  <tbody>\n",
       "    <tr>\n",
       "      <th>0</th>\n",
       "      <td>2020-01-23</td>\n",
       "      <td>AK</td>\n",
       "      <td>2020-01-16</td>\n",
       "      <td>2020-01-22</td>\n",
       "      <td>0</td>\n",
       "      <td>0</td>\n",
       "      <td>0</td>\n",
       "      <td>0</td>\n",
       "    </tr>\n",
       "    <tr>\n",
       "      <th>1</th>\n",
       "      <td>2020-01-30</td>\n",
       "      <td>AK</td>\n",
       "      <td>2020-01-23</td>\n",
       "      <td>2020-01-29</td>\n",
       "      <td>0</td>\n",
       "      <td>0</td>\n",
       "      <td>0</td>\n",
       "      <td>0</td>\n",
       "    </tr>\n",
       "    <tr>\n",
       "      <th>2</th>\n",
       "      <td>2020-02-06</td>\n",
       "      <td>AK</td>\n",
       "      <td>2020-01-30</td>\n",
       "      <td>2020-02-05</td>\n",
       "      <td>0</td>\n",
       "      <td>0</td>\n",
       "      <td>0</td>\n",
       "      <td>0</td>\n",
       "    </tr>\n",
       "    <tr>\n",
       "      <th>3</th>\n",
       "      <td>2020-02-13</td>\n",
       "      <td>AK</td>\n",
       "      <td>2020-02-06</td>\n",
       "      <td>2020-02-12</td>\n",
       "      <td>0</td>\n",
       "      <td>0</td>\n",
       "      <td>0</td>\n",
       "      <td>0</td>\n",
       "    </tr>\n",
       "    <tr>\n",
       "      <th>4</th>\n",
       "      <td>2020-02-20</td>\n",
       "      <td>AK</td>\n",
       "      <td>2020-02-13</td>\n",
       "      <td>2020-02-19</td>\n",
       "      <td>0</td>\n",
       "      <td>0</td>\n",
       "      <td>0</td>\n",
       "      <td>0</td>\n",
       "    </tr>\n",
       "  </tbody>\n",
       "</table>\n",
       "</div>"
      ],
      "text/plain": [
       "  date_updated state  start_date    end_date  tot_cases  new_cases  \\\n",
       "0   2020-01-23    AK  2020-01-16  2020-01-22          0          0   \n",
       "1   2020-01-30    AK  2020-01-23  2020-01-29          0          0   \n",
       "2   2020-02-06    AK  2020-01-30  2020-02-05          0          0   \n",
       "3   2020-02-13    AK  2020-02-06  2020-02-12          0          0   \n",
       "4   2020-02-20    AK  2020-02-13  2020-02-19          0          0   \n",
       "\n",
       "   tot_deaths  new_deaths  \n",
       "0           0           0  \n",
       "1           0           0  \n",
       "2           0           0  \n",
       "3           0           0  \n",
       "4           0           0  "
      ]
     },
     "execution_count": 1,
     "metadata": {},
     "output_type": "execute_result"
    }
   ],
   "source": [
    "#Set-up\n",
    "#Dependencies\n",
    "import pandas as pd\n",
    "import warnings\n",
    "warnings.filterwarnings('ignore')\n",
    "import matplotlib.pyplot as plt\n",
    "import numpy as np\n",
    "\n",
    "#File path to csv and displaying it\n",
    "Weekly_Covid = \"Resources/Weekly_Covid_State.csv\"\n",
    "Weekly_Covid_df = pd.read_csv(Weekly_Covid)\n",
    "Weekly_Covid_df.head()"
   ]
  },
  {
   "cell_type": "code",
   "execution_count": 2,
   "id": "b1c470f8",
   "metadata": {},
   "outputs": [
    {
     "data": {
      "text/html": [
       "<div>\n",
       "<style scoped>\n",
       "    .dataframe tbody tr th:only-of-type {\n",
       "        vertical-align: middle;\n",
       "    }\n",
       "\n",
       "    .dataframe tbody tr th {\n",
       "        vertical-align: top;\n",
       "    }\n",
       "\n",
       "    .dataframe thead th {\n",
       "        text-align: right;\n",
       "    }\n",
       "</style>\n",
       "<table border=\"1\" class=\"dataframe\">\n",
       "  <thead>\n",
       "    <tr style=\"text-align: right;\">\n",
       "      <th></th>\n",
       "      <th>state</th>\n",
       "      <th>start_date</th>\n",
       "      <th>tot_cases</th>\n",
       "    </tr>\n",
       "  </thead>\n",
       "  <tbody>\n",
       "    <tr>\n",
       "      <th>0</th>\n",
       "      <td>AK</td>\n",
       "      <td>2020-01-16</td>\n",
       "      <td>0</td>\n",
       "    </tr>\n",
       "    <tr>\n",
       "      <th>1</th>\n",
       "      <td>AK</td>\n",
       "      <td>2020-01-23</td>\n",
       "      <td>0</td>\n",
       "    </tr>\n",
       "    <tr>\n",
       "      <th>2</th>\n",
       "      <td>AK</td>\n",
       "      <td>2020-01-30</td>\n",
       "      <td>0</td>\n",
       "    </tr>\n",
       "    <tr>\n",
       "      <th>3</th>\n",
       "      <td>AK</td>\n",
       "      <td>2020-02-06</td>\n",
       "      <td>0</td>\n",
       "    </tr>\n",
       "    <tr>\n",
       "      <th>4</th>\n",
       "      <td>AK</td>\n",
       "      <td>2020-02-13</td>\n",
       "      <td>0</td>\n",
       "    </tr>\n",
       "  </tbody>\n",
       "</table>\n",
       "</div>"
      ],
      "text/plain": [
       "  state  start_date  tot_cases\n",
       "0    AK  2020-01-16          0\n",
       "1    AK  2020-01-23          0\n",
       "2    AK  2020-01-30          0\n",
       "3    AK  2020-02-06          0\n",
       "4    AK  2020-02-13          0"
      ]
     },
     "execution_count": 2,
     "metadata": {},
     "output_type": "execute_result"
    }
   ],
   "source": [
    "#Getting the columns that are needed\n",
    "Covid_df = Weekly_Covid_df[[\"state\",\"start_date\",\"tot_cases\"]]\n",
    "Covid_df.head()"
   ]
  },
  {
   "cell_type": "code",
   "execution_count": 3,
   "id": "31d096cf",
   "metadata": {},
   "outputs": [
    {
     "name": "stdout",
     "output_type": "stream",
     "text": [
      "['AK' 'AL' 'AR' 'AS' 'AZ' 'CA' 'CO' 'CT' 'DC' 'DE' 'FL' 'FSM' 'GA' 'GU'\n",
      " 'HI' 'IA' 'ID' 'IL' 'IN' 'KS' 'KY' 'LA' 'MA' 'MD' 'ME' 'MI' 'MN' 'MO'\n",
      " 'MP' 'MS' 'MT' 'NC' 'ND' 'NE' 'NH' 'NJ' 'NM' 'NV' 'NY' 'NYC' 'OH' 'OK'\n",
      " 'OR' 'PA' 'PR' 'PW' 'RI' 'RMI' 'SC' 'SD' 'TN' 'TX' 'UT' 'VA' 'VI' 'VT'\n",
      " 'WA' 'WI' 'WV' 'WY']\n"
     ]
    }
   ],
   "source": [
    "#Seeing all the unique states in the dataframe\n",
    "print(Covid_df['state'].unique())"
   ]
  },
  {
   "cell_type": "code",
   "execution_count": 4,
   "id": "45b34a18",
   "metadata": {},
   "outputs": [
    {
     "name": "stdout",
     "output_type": "stream",
     "text": [
      "['AK' 'AL' 'AR' 'AZ' 'CA' 'CO' 'CT' 'DE' 'FL' 'GA' 'HI' 'IA' 'ID' 'IL'\n",
      " 'IN' 'KS' 'KY' 'MA' 'MD' 'ME' 'MI' 'MN' 'MO' 'MS' 'MT' 'NC' 'ND' 'NE'\n",
      " 'NH' 'NJ' 'NM' 'NV' 'NY' 'OH' 'OK' 'OR' 'PA' 'RI' 'SC' 'SD' 'TN' 'TX'\n",
      " 'UT' 'VA' 'VT' 'WA' 'WI' 'WV' 'WY']\n"
     ]
    }
   ],
   "source": [
    "#Removing all cities and territories in the dataset\n",
    "Covid_df.drop(Covid_df.index[(Covid_df[\"state\"] == \"AS\")],axis=0,inplace=True)\n",
    "Covid_df.drop(Covid_df.index[(Covid_df[\"state\"] == \"GU\")],axis=0,inplace=True)\n",
    "Covid_df.drop(Covid_df.index[(Covid_df[\"state\"] == \"MH\")],axis=0,inplace=True)\n",
    "Covid_df.drop(Covid_df.index[(Covid_df[\"state\"] == \"MP\")],axis=0,inplace=True)\n",
    "Covid_df.drop(Covid_df.index[(Covid_df[\"state\"] == \"OW\")],axis=0,inplace=True)\n",
    "Covid_df.drop(Covid_df.index[(Covid_df[\"state\"] == \"PR\")],axis=0,inplace=True)\n",
    "Covid_df.drop(Covid_df.index[(Covid_df[\"state\"] == \"PW\")],axis=0,inplace=True)\n",
    "Covid_df.drop(Covid_df.index[(Covid_df[\"state\"] == \"OW\")],axis=0,inplace=True)\n",
    "Covid_df.drop(Covid_df.index[(Covid_df[\"state\"] == \"VI\")],axis=0,inplace=True)\n",
    "Covid_df.drop(Covid_df.index[(Covid_df[\"state\"] == \"UM\")],axis=0,inplace=True)\n",
    "Covid_df.drop(Covid_df.index[(Covid_df[\"state\"] == \"DC\")],axis=0,inplace=True)\n",
    "Covid_df.drop(Covid_df.index[(Covid_df[\"state\"] == \"FSM\")],axis=0,inplace=True)\n",
    "Covid_df.drop(Covid_df.index[(Covid_df[\"state\"] == \"LA\")],axis=0,inplace=True)\n",
    "Covid_df.drop(Covid_df.index[(Covid_df[\"state\"] == \"NYC\")],axis=0,inplace=True)\n",
    "Covid_df.drop(Covid_df.index[(Covid_df[\"state\"] == \"RMI\")],axis=0,inplace=True)\n",
    "print(Covid_df['state'].unique())\n"
   ]
  },
  {
   "cell_type": "code",
   "execution_count": 5,
   "id": "5ac41b63",
   "metadata": {},
   "outputs": [
    {
     "name": "stdout",
     "output_type": "stream",
     "text": [
      "411666.1\n"
     ]
    }
   ],
   "source": [
    "#Getting the National sum and average of all cases in 2020\n",
    "National_Cases_2020 = Covid_df.loc[Covid_df.start_date == \"2020-12-31\",:]\n",
    "Sum_2020 = National_Cases_2020[\"tot_cases\"].sum()\n",
    "National_Average_2020 = Sum_2020/50\n",
    "print(National_Average_2020)"
   ]
  },
  {
   "cell_type": "code",
   "execution_count": 6,
   "id": "07f63026",
   "metadata": {},
   "outputs": [
    {
     "name": "stdout",
     "output_type": "stream",
     "text": [
      "1094754.24\n"
     ]
    }
   ],
   "source": [
    "#Getting the National sum and average of all cases in 2021\n",
    "National_Cases_2021 = Covid_df.loc[Covid_df.start_date == \"2021-12-30\",:]\n",
    "Sum_2021 = National_Cases_2021[\"tot_cases\"].sum()\n",
    "National_Average_2021 = Sum_2021/50\n",
    "print(National_Average_2021)"
   ]
  },
  {
   "cell_type": "code",
   "execution_count": 7,
   "id": "78aede58",
   "metadata": {},
   "outputs": [
    {
     "name": "stdout",
     "output_type": "stream",
     "text": [
      "1837934.42\n"
     ]
    }
   ],
   "source": [
    "#Getting the National sum and average of all cases in 2022\n",
    "National_Cases_2022 = Covid_df.loc[Covid_df.start_date == \"2022-10-27\",:]\n",
    "Sum_2022 = National_Cases_2022[\"tot_cases\"].sum()\n",
    "National_Average_2022 = Sum_2022/50\n",
    "print(National_Average_2022)"
   ]
  },
  {
   "cell_type": "code",
   "execution_count": 8,
   "id": "8d0990f9",
   "metadata": {},
   "outputs": [
    {
     "data": {
      "image/png": "[encoded data removed]",
      "text/plain": [
       "<Figure size 432x288 with 1 Axes>"
      ]
     },
     "metadata": {
      "needs_background": "light"
     },
     "output_type": "display_data"
    }
   ],
   "source": [
    "#Creating Line Graph\n",
    "#setting up axis for line graph\n",
    "line_x_axis = [2020,2021,2022]\n",
    "line_y_axis_sum = [Sum_2020, Sum_2021,Sum_2022]\n",
    "line_y_axis_avg = [National_Average_2020, National_Average_2021, National_Average_2022]\n",
    "#plotting the graph and saving image to folder\n",
    "plt.plot(line_x_axis, line_y_axis_sum)\n",
    "plt.plot(line_x_axis, line_y_axis_avg)\n",
    "plt.tick_params(axis='x', which='major', labelsize=10)\n",
    "plt.xlim([2019,2024])\n",
    "plt.yticks(np.arange(0, 100000000, 10000000))\n",
    "plt.title(\"Total Covid Cases\")\n",
    "plt.xlabel(\"Year\")\n",
    "plt.ylabel(\"Cases in Tens of Millions\")\n",
    "plt.savefig(\"Images/Total_Covid_Cases.png\")"
   ]
  }
 ],
 "metadata": {
  "kernelspec": {
   "display_name": "PythonData",
   "language": "python",
   "name": "pythondata"
  },
  "language_info": {
   "codemirror_mode": {
    "name": "ipython",
    "version": 3
   },
   "file_extension": ".py",
   "mimetype": "text/x-python",
   "name": "python",
   "nbconvert_exporter": "python",
   "pygments_lexer": "ipython3",
   "version": "3.7.7"
  }
 },
 "nbformat": 4,
 "nbformat_minor": 5
}
