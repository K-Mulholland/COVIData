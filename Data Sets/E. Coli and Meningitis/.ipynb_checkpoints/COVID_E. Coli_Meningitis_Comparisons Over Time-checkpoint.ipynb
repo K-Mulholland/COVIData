{
 "cells": [
  {
   "cell_type": "markdown",
   "id": "452ff1dc",
   "metadata": {},
   "source": [
    "# How do COVID rates compare to E. Coli and Meningitis over time?"
   ]
  },
  {
   "cell_type": "code",
   "execution_count": null,
   "id": "544d4f27",
   "metadata": {},
   "outputs": [],
   "source": []
  }
 ],
 "metadata": {
  "kernelspec": {
   "display_name": "PythonData",
   "language": "python",
   "name": "pythondata"
  },
  "language_info": {
   "codemirror_mode": {
    "name": "ipython",
    "version": 3
   },
   "file_extension": ".py",
   "mimetype": "text/x-python",
   "name": "python",
   "nbconvert_exporter": "python",
   "pygments_lexer": "ipython3",
   "version": "3.8.13"
  }
 },
 "nbformat": 4,
 "nbformat_minor": 5
}
