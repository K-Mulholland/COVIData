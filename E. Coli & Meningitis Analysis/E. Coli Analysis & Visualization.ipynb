{
 "cells": [
  {
   "cell_type": "markdown",
   "id": "d9507dcd",
   "metadata": {},
   "source": [
    "# E. Coli\n",
    "Infection Rates Over Time Compared In A Variety of Ways"
   ]
  },
  {
   "cell_type": "code",
   "execution_count": null,
   "id": "634e9b86",
   "metadata": {},
   "outputs": [],
   "source": []
  },
  {
   "cell_type": "markdown",
   "id": "435e001f",
   "metadata": {},
   "source": [
    "US Infection Rates Over Time"
   ]
  },
  {
   "cell_type": "code",
   "execution_count": null,
   "id": "8482e792",
   "metadata": {},
   "outputs": [],
   "source": []
  },
  {
   "cell_type": "markdown",
   "id": "a531c8e7",
   "metadata": {},
   "source": [
    "State Infection Rates\n",
    "Top 10 States (with longest masking mandates)\n",
    "New York\n",
    "Massachusetts\n",
    "New Jersey\n",
    "Delaware\n",
    "Connecticut\n",
    "Virginia\n",
    "Rhode Island\n",
    "Maine\n",
    "Michigan\n",
    "Illinois\n",
    "New Mexico"
   ]
  },
  {
   "cell_type": "code",
   "execution_count": null,
   "id": "19ea8108",
   "metadata": {},
   "outputs": [],
   "source": []
  },
  {
   "cell_type": "markdown",
   "id": "2d6246ff",
   "metadata": {},
   "source": [
    "State Infection Rates\n",
    "Bottom 10 States (with shortest masking mandates)\n",
    "Florida\n",
    "Georgia\n",
    "South Carolina\n",
    "Tennessee\n",
    "Montana\n",
    "Oklahoma\n",
    "South Dakota\n",
    "Wyoming\n",
    "Idaho\n",
    "Arizona"
   ]
  }
 ],
 "metadata": {
  "kernelspec": {
   "display_name": "PythonData",
   "language": "python",
   "name": "pythondata"
  },
  "language_info": {
   "codemirror_mode": {
    "name": "ipython",
    "version": 3
   },
   "file_extension": ".py",
   "mimetype": "text/x-python",
   "name": "python",
   "nbconvert_exporter": "python",
   "pygments_lexer": "ipython3",
   "version": "3.8.13"
  }
 },
 "nbformat": 4,
 "nbformat_minor": 5
}
