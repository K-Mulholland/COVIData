{
 "cells": [
  {
   "cell_type": "code",
   "execution_count": 1,
   "id": "51e54d17",
   "metadata": {},
   "outputs": [
    {
     "data": {
      "text/html": [
       "<div>\n",
       "<style scoped>\n",
       "    .dataframe tbody tr th:only-of-type {\n",
       "        vertical-align: middle;\n",
       "    }\n",
       "\n",
       "    .dataframe tbody tr th {\n",
       "        vertical-align: top;\n",
       "    }\n",
       "\n",
       "    .dataframe thead th {\n",
       "        text-align: right;\n",
       "    }\n",
       "</style>\n",
       "<table border=\"1\" class=\"dataframe\">\n",
       "  <thead>\n",
       "    <tr style=\"text-align: right;\">\n",
       "      <th></th>\n",
       "      <th>date_updated</th>\n",
       "      <th>state</th>\n",
       "      <th>start_date</th>\n",
       "      <th>end_date</th>\n",
       "      <th>tot_cases</th>\n",
       "      <th>new_cases</th>\n",
       "      <th>tot_deaths</th>\n",
       "      <th>new_deaths</th>\n",
       "    </tr>\n",
       "  </thead>\n",
       "  <tbody>\n",
       "    <tr>\n",
       "      <th>0</th>\n",
       "      <td>2020-01-23</td>\n",
       "      <td>AK</td>\n",
       "      <td>2020-01-16</td>\n",
       "      <td>2020-01-22</td>\n",
       "      <td>0</td>\n",
       "      <td>0</td>\n",
       "      <td>0</td>\n",
       "      <td>0</td>\n",
       "    </tr>\n",
       "    <tr>\n",
       "      <th>1</th>\n",
       "      <td>2020-01-30</td>\n",
       "      <td>AK</td>\n",
       "      <td>2020-01-23</td>\n",
       "      <td>2020-01-29</td>\n",
       "      <td>0</td>\n",
       "      <td>0</td>\n",
       "      <td>0</td>\n",
       "      <td>0</td>\n",
       "    </tr>\n",
       "    <tr>\n",
       "      <th>2</th>\n",
       "      <td>2020-02-06</td>\n",
       "      <td>AK</td>\n",
       "      <td>2020-01-30</td>\n",
       "      <td>2020-02-05</td>\n",
       "      <td>0</td>\n",
       "      <td>0</td>\n",
       "      <td>0</td>\n",
       "      <td>0</td>\n",
       "    </tr>\n",
       "    <tr>\n",
       "      <th>3</th>\n",
       "      <td>2020-02-13</td>\n",
       "      <td>AK</td>\n",
       "      <td>2020-02-06</td>\n",
       "      <td>2020-02-12</td>\n",
       "      <td>0</td>\n",
       "      <td>0</td>\n",
       "      <td>0</td>\n",
       "      <td>0</td>\n",
       "    </tr>\n",
       "    <tr>\n",
       "      <th>4</th>\n",
       "      <td>2020-02-20</td>\n",
       "      <td>AK</td>\n",
       "      <td>2020-02-13</td>\n",
       "      <td>2020-02-19</td>\n",
       "      <td>0</td>\n",
       "      <td>0</td>\n",
       "      <td>0</td>\n",
       "      <td>0</td>\n",
       "    </tr>\n",
       "  </tbody>\n",
       "</table>\n",
       "</div>"
      ],
      "text/plain": [
       "  date_updated state  start_date    end_date  tot_cases  new_cases  \\\n",
       "0   2020-01-23    AK  2020-01-16  2020-01-22          0          0   \n",
       "1   2020-01-30    AK  2020-01-23  2020-01-29          0          0   \n",
       "2   2020-02-06    AK  2020-01-30  2020-02-05          0          0   \n",
       "3   2020-02-13    AK  2020-02-06  2020-02-12          0          0   \n",
       "4   2020-02-20    AK  2020-02-13  2020-02-19          0          0   \n",
       "\n",
       "   tot_deaths  new_deaths  \n",
       "0           0           0  \n",
       "1           0           0  \n",
       "2           0           0  \n",
       "3           0           0  \n",
       "4           0           0  "
      ]
     },
     "execution_count": 1,
     "metadata": {},
     "output_type": "execute_result"
    }
   ],
   "source": [
    "#Set-up\n",
    "#Dependencies\n",
    "import pandas as pd\n",
    "import warnings\n",
    "warnings.filterwarnings('ignore')\n",
    "import matplotlib.pyplot as plt\n",
    "import numpy as np\n",
    "\n",
    "#File path to csv and displaying it\n",
    "Weekly_Covid = \"Resources/Weekly_Covid_State.csv\"\n",
    "Weekly_Covid_df = pd.read_csv(Weekly_Covid)\n",
    "Weekly_Covid_df.head()"
   ]
  },
  {
   "cell_type": "code",
   "execution_count": 2,
   "id": "68dc7fd6",
   "metadata": {},
   "outputs": [
    {
     "data": {
      "text/html": [
       "<div>\n",
       "<style scoped>\n",
       "    .dataframe tbody tr th:only-of-type {\n",
       "        vertical-align: middle;\n",
       "    }\n",
       "\n",
       "    .dataframe tbody tr th {\n",
       "        vertical-align: top;\n",
       "    }\n",
       "\n",
       "    .dataframe thead th {\n",
       "        text-align: right;\n",
       "    }\n",
       "</style>\n",
       "<table border=\"1\" class=\"dataframe\">\n",
       "  <thead>\n",
       "    <tr style=\"text-align: right;\">\n",
       "      <th></th>\n",
       "      <th>state</th>\n",
       "      <th>start_date</th>\n",
       "      <th>tot_cases</th>\n",
       "    </tr>\n",
       "  </thead>\n",
       "  <tbody>\n",
       "    <tr>\n",
       "      <th>0</th>\n",
       "      <td>AK</td>\n",
       "      <td>2020-01-16</td>\n",
       "      <td>0</td>\n",
       "    </tr>\n",
       "    <tr>\n",
       "      <th>1</th>\n",
       "      <td>AK</td>\n",
       "      <td>2020-01-23</td>\n",
       "      <td>0</td>\n",
       "    </tr>\n",
       "    <tr>\n",
       "      <th>2</th>\n",
       "      <td>AK</td>\n",
       "      <td>2020-01-30</td>\n",
       "      <td>0</td>\n",
       "    </tr>\n",
       "    <tr>\n",
       "      <th>3</th>\n",
       "      <td>AK</td>\n",
       "      <td>2020-02-06</td>\n",
       "      <td>0</td>\n",
       "    </tr>\n",
       "    <tr>\n",
       "      <th>4</th>\n",
       "      <td>AK</td>\n",
       "      <td>2020-02-13</td>\n",
       "      <td>0</td>\n",
       "    </tr>\n",
       "  </tbody>\n",
       "</table>\n",
       "</div>"
      ],
      "text/plain": [
       "  state  start_date  tot_cases\n",
       "0    AK  2020-01-16          0\n",
       "1    AK  2020-01-23          0\n",
       "2    AK  2020-01-30          0\n",
       "3    AK  2020-02-06          0\n",
       "4    AK  2020-02-13          0"
      ]
     },
     "execution_count": 2,
     "metadata": {},
     "output_type": "execute_result"
    }
   ],
   "source": [
    "#Getting the columns that are needed\n",
    "Covid_df = Weekly_Covid_df[[\"state\",\"start_date\",\"tot_cases\"]]\n",
    "Covid_df.head()"
   ]
  },
  {
   "cell_type": "code",
   "execution_count": 3,
   "id": "b451bfc9",
   "metadata": {},
   "outputs": [
    {
     "name": "stdout",
     "output_type": "stream",
     "text": [
      "['AK' 'AL' 'AR' 'AS' 'AZ' 'CA' 'CO' 'CT' 'DC' 'DE' 'FL' 'FSM' 'GA' 'GU'\n",
      " 'HI' 'IA' 'ID' 'IL' 'IN' 'KS' 'KY' 'LA' 'MA' 'MD' 'ME' 'MI' 'MN' 'MO'\n",
      " 'MP' 'MS' 'MT' 'NC' 'ND' 'NE' 'NH' 'NJ' 'NM' 'NV' 'NY' 'NYC' 'OH' 'OK'\n",
      " 'OR' 'PA' 'PR' 'PW' 'RI' 'RMI' 'SC' 'SD' 'TN' 'TX' 'UT' 'VA' 'VI' 'VT'\n",
      " 'WA' 'WI' 'WV' 'WY']\n"
     ]
    }
   ],
   "source": [
    "#Seeing all the unique states in the dataframe\n",
    "print(Covid_df['state'].unique())"
   ]
  },
  {
   "cell_type": "code",
   "execution_count": 4,
   "id": "0dd5cc11",
   "metadata": {},
   "outputs": [
    {
     "name": "stdout",
     "output_type": "stream",
     "text": [
      "['AK' 'AL' 'AR' 'AZ' 'CA' 'CO' 'CT' 'DE' 'FL' 'GA' 'HI' 'IA' 'ID' 'IL'\n",
      " 'IN' 'KS' 'KY' 'MA' 'MD' 'ME' 'MI' 'MN' 'MO' 'MS' 'MT' 'NC' 'ND' 'NE'\n",
      " 'NH' 'NJ' 'NM' 'NV' 'NY' 'OH' 'OK' 'OR' 'PA' 'RI' 'SC' 'SD' 'TN' 'TX'\n",
      " 'UT' 'VA' 'VT' 'WA' 'WI' 'WV' 'WY']\n"
     ]
    }
   ],
   "source": [
    "#Removing all cities and territories in the dataset\n",
    "Covid_df.drop(Covid_df.index[(Covid_df[\"state\"] == \"AS\")],axis=0,inplace=True)\n",
    "Covid_df.drop(Covid_df.index[(Covid_df[\"state\"] == \"GU\")],axis=0,inplace=True)\n",
    "Covid_df.drop(Covid_df.index[(Covid_df[\"state\"] == \"MH\")],axis=0,inplace=True)\n",
    "Covid_df.drop(Covid_df.index[(Covid_df[\"state\"] == \"MP\")],axis=0,inplace=True)\n",
    "Covid_df.drop(Covid_df.index[(Covid_df[\"state\"] == \"OW\")],axis=0,inplace=True)\n",
    "Covid_df.drop(Covid_df.index[(Covid_df[\"state\"] == \"PR\")],axis=0,inplace=True)\n",
    "Covid_df.drop(Covid_df.index[(Covid_df[\"state\"] == \"PW\")],axis=0,inplace=True)\n",
    "Covid_df.drop(Covid_df.index[(Covid_df[\"state\"] == \"OW\")],axis=0,inplace=True)\n",
    "Covid_df.drop(Covid_df.index[(Covid_df[\"state\"] == \"VI\")],axis=0,inplace=True)\n",
    "Covid_df.drop(Covid_df.index[(Covid_df[\"state\"] == \"UM\")],axis=0,inplace=True)\n",
    "Covid_df.drop(Covid_df.index[(Covid_df[\"state\"] == \"DC\")],axis=0,inplace=True)\n",
    "Covid_df.drop(Covid_df.index[(Covid_df[\"state\"] == \"FSM\")],axis=0,inplace=True)\n",
    "Covid_df.drop(Covid_df.index[(Covid_df[\"state\"] == \"LA\")],axis=0,inplace=True)\n",
    "Covid_df.drop(Covid_df.index[(Covid_df[\"state\"] == \"NYC\")],axis=0,inplace=True)\n",
    "Covid_df.drop(Covid_df.index[(Covid_df[\"state\"] == \"RMI\")],axis=0,inplace=True)\n",
    "print(Covid_df['state'].unique())"
   ]
  },
  {
   "cell_type": "code",
   "execution_count": 5,
   "id": "98ad8063",
   "metadata": {},
   "outputs": [
    {
     "name": "stdout",
     "output_type": "stream",
     "text": [
      "['AK' 'AZ' 'CA' 'CT' 'FL' 'GA' 'HI' 'ID' 'MI' 'MO' 'NE' 'NM' 'NV' 'NY'\n",
      " 'OK' 'PA' 'RI' 'SC' 'SD' 'TN' 'WA']\n"
     ]
    }
   ],
   "source": [
    "#Focusing on the 10 longest Mask Mandate and 11 shortest Mask Mandate states only\n",
    "Covid_df.drop(Covid_df.index[(Covid_df[\"state\"] == \"AL\")],axis=0,inplace=True)\n",
    "Covid_df.drop(Covid_df.index[(Covid_df[\"state\"] == \"AR\")],axis=0,inplace=True)\n",
    "Covid_df.drop(Covid_df.index[(Covid_df[\"state\"] == \"CO\")],axis=0,inplace=True)\n",
    "Covid_df.drop(Covid_df.index[(Covid_df[\"state\"] == \"DE\")],axis=0,inplace=True)\n",
    "Covid_df.drop(Covid_df.index[(Covid_df[\"state\"] == \"IA\")],axis=0,inplace=True)\n",
    "Covid_df.drop(Covid_df.index[(Covid_df[\"state\"] == \"IL\")],axis=0,inplace=True)\n",
    "Covid_df.drop(Covid_df.index[(Covid_df[\"state\"] == \"IN\")],axis=0,inplace=True)\n",
    "Covid_df.drop(Covid_df.index[(Covid_df[\"state\"] == \"KS\")],axis=0,inplace=True)\n",
    "Covid_df.drop(Covid_df.index[(Covid_df[\"state\"] == \"KY\")],axis=0,inplace=True)\n",
    "Covid_df.drop(Covid_df.index[(Covid_df[\"state\"] == \"MA\")],axis=0,inplace=True)\n",
    "Covid_df.drop(Covid_df.index[(Covid_df[\"state\"] == \"MD\")],axis=0,inplace=True)\n",
    "Covid_df.drop(Covid_df.index[(Covid_df[\"state\"] == \"ME\")],axis=0,inplace=True)\n",
    "Covid_df.drop(Covid_df.index[(Covid_df[\"state\"] == \"MN\")],axis=0,inplace=True)\n",
    "Covid_df.drop(Covid_df.index[(Covid_df[\"state\"] == \"MS\")],axis=0,inplace=True)\n",
    "Covid_df.drop(Covid_df.index[(Covid_df[\"state\"] == \"MT\")],axis=0,inplace=True)\n",
    "Covid_df.drop(Covid_df.index[(Covid_df[\"state\"] == \"NC\")],axis=0,inplace=True)\n",
    "Covid_df.drop(Covid_df.index[(Covid_df[\"state\"] == \"ND\")],axis=0,inplace=True)\n",
    "Covid_df.drop(Covid_df.index[(Covid_df[\"state\"] == \"NH\")],axis=0,inplace=True)\n",
    "Covid_df.drop(Covid_df.index[(Covid_df[\"state\"] == \"NJ\")],axis=0,inplace=True)\n",
    "Covid_df.drop(Covid_df.index[(Covid_df[\"state\"] == \"OH\")],axis=0,inplace=True)\n",
    "Covid_df.drop(Covid_df.index[(Covid_df[\"state\"] == \"OR\")],axis=0,inplace=True)\n",
    "Covid_df.drop(Covid_df.index[(Covid_df[\"state\"] == \"TX\")],axis=0,inplace=True)\n",
    "Covid_df.drop(Covid_df.index[(Covid_df[\"state\"] == \"UT\")],axis=0,inplace=True)\n",
    "Covid_df.drop(Covid_df.index[(Covid_df[\"state\"] == \"VA\")],axis=0,inplace=True)\n",
    "Covid_df.drop(Covid_df.index[(Covid_df[\"state\"] == \"VT\")],axis=0,inplace=True)\n",
    "Covid_df.drop(Covid_df.index[(Covid_df[\"state\"] == \"WI\")],axis=0,inplace=True)\n",
    "Covid_df.drop(Covid_df.index[(Covid_df[\"state\"] == \"WV\")],axis=0,inplace=True)\n",
    "Covid_df.drop(Covid_df.index[(Covid_df[\"state\"] == \"WY\")],axis=0,inplace=True)\n",
    "print(Covid_df['state'].unique())"
   ]
  },
  {
   "cell_type": "code",
   "execution_count": 6,
   "id": "6b1a926a",
   "metadata": {},
   "outputs": [
    {
     "name": "stdout",
     "output_type": "stream",
     "text": [
      "     state  tot_cases\n",
      "50      AK      48165\n",
      "634     AZ     574680\n",
      "780     CA    2582223\n",
      "1072    CT     199454\n",
      "1510    FL    1409906\n",
      "1802    GA     713842\n",
      "2094    HI      22566\n",
      "2386    ID     146110\n",
      "3700    MI     551498\n",
      "3992    MO     463455\n",
      "4868    NE     171269\n",
      "5306    NM     149984\n",
      "5452    NV     237393\n",
      "5598    NY     603570\n",
      "6036    OK     311112\n",
      "6328    PA     695278\n",
      "6766    RI      92773\n",
      "7058    SC     333235\n",
      "7204    SD     101678\n",
      "7350    TN     622815\n",
      "8226    WA     262155\n"
     ]
    }
   ],
   "source": [
    "#Finding the number of cases in the 21 states in 2020\n",
    "Covid_21_df = Covid_df.loc[Covid_df.start_date == \"2020-12-31\",:]\n",
    "Covid_21_df = Covid_21_df.drop(Covid_21_df[[\"start_date\"]],axis=1)\n",
    "print(Covid_21_df)"
   ]
  },
  {
   "cell_type": "code",
   "execution_count": 7,
   "id": "a817fcaf",
   "metadata": {},
   "outputs": [
    {
     "name": "stdout",
     "output_type": "stream",
     "text": [
      "[22566, 199454, 149984, 695278, 603570, 2582223, 92773, 551498, 237393, 262155, 48165, 574680, 1409906, 713842, 146110, 463455, 171269, 311112, 333235, 101678, 622815]\n"
     ]
    }
   ],
   "source": [
    "#Reorganize the data into longest 10 and shortest 11 mask mandate states. \n",
    "order = ['HI', 'CT', 'NM', 'PA', 'NY', 'CA', 'RI', 'MI', 'NV', 'WA', 'AK', 'AZ', 'FL', 'GA', 'ID', 'MO', 'NE', 'OK', 'SC', 'SD', 'TN']\n",
    "#Creating y-axis for bar chart\n",
    "bar_y_axis = []\n",
    "for i in order:\n",
    "    for j in Covid_21_df.itertuples():\n",
    "        if i == j[1]:\n",
    "            bar_y_axis.append(j[2])\n",
    "print(bar_y_axis)"
   ]
  },
  {
   "cell_type": "code",
   "execution_count": 8,
   "id": "019b6312",
   "metadata": {},
   "outputs": [
    {
     "name": "stdout",
     "output_type": "stream",
     "text": [
      "['HI', 'CT', 'NM', 'PA', 'NY', 'CA', 'RI', 'MI', 'NV', 'WA', 'AK', 'AZ', 'FL', 'GA', 'ID', 'MO', 'NE', 'OK', 'SC', 'SD', 'TN']\n"
     ]
    }
   ],
   "source": [
    "#Creating x-axis for bar chart\n",
    "bar_x_axis = order\n",
    "print(bar_x_axis)"
   ]
  },
  {
   "cell_type": "code",
   "execution_count": 9,
   "id": "3a4f09d3",
   "metadata": {},
   "outputs": [
    {
     "data": {
      "image/png": "[encoded data removed]",
      "text/plain": [
       "<Figure size 864x360 with 1 Axes>"
      ]
     },
     "metadata": {
      "needs_background": "light"
     },
     "output_type": "display_data"
    }
   ],
   "source": [
    "#Creating bar chart\n",
    "plt.subplots(figsize=(12,5))\n",
    "colors = [\"b\"]*10 + [\"y\"]*11\n",
    "plt.bar(bar_x_axis, bar_y_axis, color=colors, alpha=0.5, align=\"center\")\n",
    "plt.yticks(np.arange(0, 3000000, 200000))\n",
    "plt.title(\"Covid Cases in 2020 by Longest and Shortest Mask Mandated States\")\n",
    "plt.xlabel(\"States\")\n",
    "plt.ylabel(\"Cases in Millions\")\n",
    "plt.savefig(\"Images/Cases_by_Mask_Mandate.png\")"
   ]
  }
 ],
 "metadata": {
  "kernelspec": {
   "display_name": "PythonData",
   "language": "python",
   "name": "pythondata"
  },
  "language_info": {
   "codemirror_mode": {
    "name": "ipython",
    "version": 3
   },
   "file_extension": ".py",
   "mimetype": "text/x-python",
   "name": "python",
   "nbconvert_exporter": "python",
   "pygments_lexer": "ipython3",
   "version": "3.7.7"
  }
 },
 "nbformat": 4,
 "nbformat_minor": 5
}
